{
 "cells": [
  {
   "cell_type": "markdown",
   "metadata": {},
   "source": [
    "# Geocue tutorial scraping"
   ]
  },
  {
   "cell_type": "code",
   "execution_count": 42,
   "metadata": {},
   "outputs": [],
   "source": [
    "dev = True"
   ]
  },
  {
   "cell_type": "code",
   "execution_count": 40,
   "metadata": {},
   "outputs": [],
   "source": [
    "from selenium import webdriver\n",
    "import pyautogui\n",
    "from bs4 import BeautifulSoup\n",
    "import requests\n",
    "\n",
    "from webdriver_manager.firefox import GeckoDriverManager\n",
    "from selenium.webdriver.common.action_chains import ActionChains\n",
    "from selenium.webdriver.common.keys import Keys"
   ]
  },
  {
   "cell_type": "code",
   "execution_count": 13,
   "metadata": {},
   "outputs": [
    {
     "name": "stderr",
     "output_type": "stream",
     "text": [
      "[WDM] - Downloading: 19.0kB [00:00, 4.33MB/s]                                   \n"
     ]
    }
   ],
   "source": [
    "driver = webdriver.Firefox(executable_path=GeckoDriverManager().install())"
   ]
  },
  {
   "cell_type": "code",
   "execution_count": 39,
   "metadata": {},
   "outputs": [
    {
     "data": {
      "text/plain": [
       "True"
      ]
     },
     "execution_count": 39,
     "metadata": {},
     "output_type": "execute_result"
    }
   ],
   "source": [
    "testurl = 'https://support.geocue.com/terrasolid-tool-guides/'\n",
    "test_dir = 'scrape'\n",
    "\n",
    "def scrape_url(driver, url, save_dir):\n",
    "    driver.get(url)\n",
    "    pyautogui.hotkey('ctrl', 's')\n",
    "    pyautogui.write(save_dir)\n",
    "    with pyautogui.hold('shift'):\n",
    "        pyautogui.write('/')\n",
    "    pyautogui.write(driver.title)\n",
    "    #pyautogui.hotkey('enter')\n",
    "    return True\n",
    "\n",
    "if dev:\n",
    "    scrape_url(driver, testurl, test_dir)"
   ]
  },
  {
   "cell_type": "code",
   "execution_count": 43,
   "metadata": {},
   "outputs": [],
   "source": [
    "testurl = 'https://support.geocue.com/category/terrasolid/terrasolid-tools-tips-workflows/'\n",
    "\n",
    "def parse_articles(page_source):\n",
    "    return 'list_of_article_urls'\n",
    "    \n",
    "if dev:\n",
    "    testpage = requests.get(testurl).content\n",
    "    "
   ]
  },
  {
   "cell_type": "code",
   "execution_count": 46,
   "metadata": {},
   "outputs": [],
   "source": [
    "soup = BeautifulSoup(testpage.content)"
   ]
  },
  {
   "cell_type": "code",
   "execution_count": 56,
   "metadata": {},
   "outputs": [
    {
     "data": {
      "text/plain": [
       "[<a class=\"btn btn-primary btn-block\" href=\"https://support.geocue.com/terrasolid-tool-guides/\" rel=\"bookmark\"><i class=\"glyphicon glyphicon-link\"></i> Read more</a>,\n",
       " <a class=\"btn btn-primary\" href=\"https://support.geocue.com/terrasolid-tool-guides/\" rel=\"bookmark\"><i class=\"glyphicon glyphicon-link\"></i> Read more</a>,\n",
       " <a class=\"btn btn-primary btn-block\" href=\"https://support.geocue.com/terrasolid-design-library/\" rel=\"bookmark\"><i class=\"glyphicon glyphicon-link\"></i> Read more</a>,\n",
       " <a class=\"btn btn-primary\" href=\"https://support.geocue.com/terrasolid-design-library/\" rel=\"bookmark\"><i class=\"glyphicon glyphicon-link\"></i> Read more</a>,\n",
       " <a class=\"btn btn-primary btn-block\" href=\"https://support.geocue.com/terrascan-key-commands/\" rel=\"bookmark\"><i class=\"glyphicon glyphicon-link\"></i> Read more</a>,\n",
       " <a class=\"btn btn-primary\" href=\"https://support.geocue.com/terrascan-key-commands/\" rel=\"bookmark\"><i class=\"glyphicon glyphicon-link\"></i> Read more</a>,\n",
       " <a class=\"btn btn-primary btn-block\" href=\"https://support.geocue.com/qaqc-creating-dz-images/\" rel=\"bookmark\"><i class=\"glyphicon glyphicon-link\"></i> Read more</a>,\n",
       " <a class=\"btn btn-primary\" href=\"https://support.geocue.com/qaqc-creating-dz-images/\" rel=\"bookmark\"><i class=\"glyphicon glyphicon-link\"></i> Read more</a>,\n",
       " <a class=\"btn btn-primary btn-block\" href=\"https://support.geocue.com/processing-trueview-images-in-terraphoto/\" rel=\"bookmark\"><i class=\"glyphicon glyphicon-link\"></i> Read more</a>,\n",
       " <a class=\"btn btn-primary\" href=\"https://support.geocue.com/processing-trueview-images-in-terraphoto/\" rel=\"bookmark\"><i class=\"glyphicon glyphicon-link\"></i> Read more</a>,\n",
       " <a class=\"btn btn-primary btn-block\" href=\"https://support.geocue.com/terraphoto-key-commands/\" rel=\"bookmark\"><i class=\"glyphicon glyphicon-link\"></i> Read more</a>,\n",
       " <a class=\"btn btn-primary\" href=\"https://support.geocue.com/terraphoto-key-commands/\" rel=\"bookmark\"><i class=\"glyphicon glyphicon-link\"></i> Read more</a>,\n",
       " <a class=\"btn btn-primary btn-block\" href=\"https://support.geocue.com/terramodeler-key-in-commands/\" rel=\"bookmark\"><i class=\"glyphicon glyphicon-link\"></i> Read more</a>,\n",
       " <a class=\"btn btn-primary\" href=\"https://support.geocue.com/terramodeler-key-in-commands/\" rel=\"bookmark\"><i class=\"glyphicon glyphicon-link\"></i> Read more</a>,\n",
       " <a class=\"btn btn-primary btn-block\" href=\"https://support.geocue.com/terramatch-key-in-commands/\" rel=\"bookmark\"><i class=\"glyphicon glyphicon-link\"></i> Read more</a>,\n",
       " <a class=\"btn btn-primary\" href=\"https://support.geocue.com/terramatch-key-in-commands/\" rel=\"bookmark\"><i class=\"glyphicon glyphicon-link\"></i> Read more</a>,\n",
       " <a class=\"btn btn-primary btn-block\" href=\"https://support.geocue.com/whats-new-in-terrasolid-mar-2022/\" rel=\"bookmark\"><i class=\"glyphicon glyphicon-link\"></i> Read more</a>,\n",
       " <a class=\"btn btn-primary\" href=\"https://support.geocue.com/whats-new-in-terrasolid-mar-2022/\" rel=\"bookmark\"><i class=\"glyphicon glyphicon-link\"></i> Read more</a>,\n",
       " <a class=\"btn btn-primary btn-block\" href=\"https://support.geocue.com/3dis-scanner-systems-list-for-terramatch/\" rel=\"bookmark\"><i class=\"glyphicon glyphicon-link\"></i> Read more</a>,\n",
       " <a class=\"btn btn-primary\" href=\"https://support.geocue.com/3dis-scanner-systems-list-for-terramatch/\" rel=\"bookmark\"><i class=\"glyphicon glyphicon-link\"></i> Read more</a>]"
      ]
     },
     "execution_count": 56,
     "metadata": {},
     "output_type": "execute_result"
    }
   ],
   "source": [
    "soup.find_all('a', class_='btn-primary')"
   ]
  }
 ],
 "metadata": {
  "kernelspec": {
   "display_name": "Python [conda env:gc-scraper]",
   "language": "python",
   "name": "conda-env-gc-scraper-py"
  },
  "language_info": {
   "codemirror_mode": {
    "name": "ipython",
    "version": 3
   },
   "file_extension": ".py",
   "mimetype": "text/x-python",
   "name": "python",
   "nbconvert_exporter": "python",
   "pygments_lexer": "ipython3",
   "version": "3.7.15"
  }
 },
 "nbformat": 4,
 "nbformat_minor": 4
}
