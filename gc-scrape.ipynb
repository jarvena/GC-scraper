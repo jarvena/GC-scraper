{
 "cells": [
  {
   "cell_type": "markdown",
   "metadata": {},
   "source": [
    "# Geocue tutorial scraping"
   ]
  },
  {
   "cell_type": "code",
   "execution_count": 10,
   "metadata": {},
   "outputs": [],
   "source": [
    "dev = False # Enable to run and print test outputs below each function definition"
   ]
  },
  {
   "cell_type": "code",
   "execution_count": 34,
   "metadata": {},
   "outputs": [],
   "source": [
    "from selenium import webdriver\n",
    "import pyautogui\n",
    "from bs4 import BeautifulSoup\n",
    "import requests\n",
    "import time\n",
    "\n",
    "from webdriver_manager.firefox import GeckoDriverManager"
   ]
  },
  {
   "cell_type": "code",
   "execution_count": 3,
   "metadata": {},
   "outputs": [
    {
     "name": "stderr",
     "output_type": "stream",
     "text": [
      "[WDM] - Downloading: 19.0kB [00:00, 17.2MB/s]                   \n"
     ]
    }
   ],
   "source": [
    "driver = webdriver.Firefox(executable_path=GeckoDriverManager().install())"
   ]
  },
  {
   "cell_type": "markdown",
   "metadata": {},
   "source": [
    "## Function definitions"
   ]
  },
  {
   "cell_type": "code",
   "execution_count": 4,
   "metadata": {},
   "outputs": [
    {
     "name": "stdout",
     "output_type": "stream",
     "text": [
      "Before: Sample title? - For testing \\/\n",
      "After: Sample title + For testing \n"
     ]
    }
   ],
   "source": [
    "def finnish_to_english_keyboard(string):\n",
    "    source_symbols = '-'\n",
    "    target_symbols = '+'\n",
    "    remove_symbols = r'\\/:*?\"<>|'\n",
    "    translation = string.maketrans(source_symbols, target_symbols, remove_symbols)\n",
    "    return string.translate(translation)\n",
    "\n",
    "if dev:\n",
    "    test_string = r'Sample title? - For testing \\/'\n",
    "    print('Before: ' + test_string)\n",
    "    print('After: ' + finnish_to_english_keyboard(test_string))"
   ]
  },
  {
   "cell_type": "code",
   "execution_count": 4,
   "metadata": {},
   "outputs": [],
   "source": [
    "testurl = 'https://support.geocue.com/whats-new-in-terrasolid-mar-2022/'\n",
    "#testurl = 'https://support.geocue.com/including-spot-elevations-cells-in-surface/'\n",
    "testurl = 'https://support.geocue.com/zero-ground-points-classified/'\n",
    "test_dir = 'scrape'\n",
    "\n",
    "def finnish_to_english_keyboard(string):\n",
    "    source_symbols = '-'\n",
    "    target_symbols = '+'\n",
    "    remove_symbols = r'\\/:*?\"<>|'\n",
    "    translation = string.maketrans(source_symbols, target_symbols, remove_symbols)\n",
    "    return string.translate(translation)\n",
    "\n",
    "def scrape_url(driver, url, save_dir):\n",
    "    driver.get(url)\n",
    "    pyautogui.hotkey('ctrl', 's')\n",
    "\n",
    "    #pyautogui.write(save_dir)\n",
    "    # with pyautogui.hold('shift'):\n",
    "    #     pyautogui.write('/')\n",
    "    #pyautogui.write('-')\n",
    "\n",
    "    title = str(driver.title)\n",
    "    title = finnish_to_english_keyboard(title)\n",
    "    #pyautogui.write(title)\n",
    "\n",
    "    time.sleep(1)\n",
    "    pyautogui.hotkey('enter')\n",
    "\n",
    "    return True\n",
    "\n",
    "if dev:\n",
    "    scrape_url(driver, testurl, test_dir)"
   ]
  },
  {
   "cell_type": "code",
   "execution_count": 41,
   "metadata": {},
   "outputs": [
    {
     "data": {
      "text/plain": [
       "'Tutorial Matching Mobile data XYZ using TerraMatch - GeoCue'"
      ]
     },
     "execution_count": 41,
     "metadata": {},
     "output_type": "execute_result"
    }
   ],
   "source": [
    "def remove_special_characters(string):\n",
    "    source_symbols = ''\n",
    "    target_symbols = ''\n",
    "    remove_symbols = r'\\/:*?\"<>|'\n",
    "    translation = string.maketrans(source_symbols, target_symbols, remove_symbols)\n",
    "    return string.translate(translation)\n",
    "\n",
    "def extract_title(page):\n",
    "    soup = BeautifulSoup(page)\n",
    "    title = soup.title.text\n",
    "    simple_title = remove_special_characters(title)\n",
    "    return simple_title\n",
    "\n",
    "def scrape_simple_html(url):\n",
    "    page = requests.get(url)\n",
    "    title = extract_title(page.content)\n",
    "    return page, title\n",
    "\n",
    "if dev:\n",
    "    testurl = 'https://support.geocue.com/tutorial-matching-mobile-data-xyz-using-terramatch/'\n",
    "    page, title = scrape_simple_html(testurl)"
   ]
  },
  {
   "cell_type": "code",
   "execution_count": 26,
   "metadata": {},
   "outputs": [],
   "source": [
    "def html_to_file(page, fname, dir):\n",
    "    with open(dir + fname + '.html', 'w', encoding='utf-8') as f:\n",
    "        f.write(page.text)\n",
    "\n",
    "if dev:\n",
    "    testurl = 'https://support.geocue.com/tutorial-terrascan-adding-synthetic-points/'\n",
    "    page, title = scrape_simple_html(testurl)\n",
    "    html_to_file(page, title, '../../Downloads/tutorials/')"
   ]
  },
  {
   "cell_type": "code",
   "execution_count": 36,
   "metadata": {},
   "outputs": [
    {
     "name": "stdout",
     "output_type": "stream",
     "text": [
      "https://support.geocue.com/tutorial-terrascan-adding-synthetic-points/\n",
      "https://support.geocue.com/tutorial-matching-mobile-data-xyz-using-terramatch/\n",
      "https://support.geocue.com/vtw-2022-terrasolid-software-licensing/\n",
      "https://support.geocue.com/terrasolid-tutorial-coordinate-systems-projections/\n",
      "https://support.geocue.com/terrasolid-tutorial-define-signal-markers/\n",
      "https://support.geocue.com/terrasolid-tutorial-strip-adjustment-dji-l1/\n",
      "https://support.geocue.com/terrasolid-tutorial-processing-dji-l1/\n",
      "https://support.geocue.com/terrasolid-tutorial-check-building-footprint-polygons/\n",
      "https://support.geocue.com/terrasolid-tutorial-vegetation-index-echo-length/\n",
      "https://support.geocue.com/terrasolid-tutorial-digital-terrain-model/\n"
     ]
    }
   ],
   "source": [
    "testurl = 'https://support.geocue.com/category/terrasolid/terrasolid-tools-tips-workflows/'\n",
    "testurl = 'https://support.geocue.com/category/terrasolid/terrasolid-tutorials/'\n",
    "\n",
    "def parse_articles(page_source):\n",
    "    soup = BeautifulSoup(page_source)\n",
    "    elements = soup.find_all('a', class_='btn btn-primary btn-block')\n",
    "\n",
    "    for element in elements:\n",
    "        link = element['href']\n",
    "\n",
    "        yield link\n",
    "    \n",
    "if dev:\n",
    "    testpage = requests.get(testurl).content\n",
    "    for link in parse_articles(testpage):\n",
    "        print(link)"
   ]
  },
  {
   "cell_type": "code",
   "execution_count": 6,
   "metadata": {},
   "outputs": [],
   "source": [
    "def scrape_index(base_url, start_i, last_i):\n",
    "    last_i += 1\n",
    "    \n",
    "    for i in range(start_i, last_i):\n",
    "        target_url = base_url + str(i)\n",
    "\n",
    "        page = requests.get(target_url).content\n",
    "        for content in parse_articles(page):\n",
    "            scrape_url(driver, content, '')"
   ]
  },
  {
   "cell_type": "code",
   "execution_count": 43,
   "metadata": {},
   "outputs": [],
   "source": [
    "def scrape_index_htmlonly(base_url, start_i, last_i, save_dir='./'):\n",
    "    last_i += 1\n",
    "    \n",
    "    enumerator = 0\n",
    "\n",
    "    for i in range(start_i, last_i):\n",
    "        target_url = base_url + str(i)\n",
    "\n",
    "        page = requests.get(target_url).content\n",
    "        for url in parse_articles(page):\n",
    "            enumerator += 1\n",
    "            page, title = scrape_simple_html(url)\n",
    "            fname = str(enumerator) + ' ' + title\n",
    "            html_to_file(page, fname, save_dir)"
   ]
  },
  {
   "cell_type": "markdown",
   "metadata": {},
   "source": [
    "## Scraping full web pages with supporting files (css, images, etc.)"
   ]
  },
  {
   "cell_type": "code",
   "execution_count": null,
   "metadata": {},
   "outputs": [],
   "source": [
    "########################################\n",
    "# Terrasolid Tools, Tips and Workflows #\n",
    "########################################\n",
    "\n",
    "base_url = 'https://support.geocue.com/category/terrasolid/terrasolid-tools-tips-workflows/page/'\n",
    "\n",
    "scrape_index(base_url, 1, 26)"
   ]
  },
  {
   "cell_type": "code",
   "execution_count": 25,
   "metadata": {},
   "outputs": [],
   "source": [
    "##################################################\n",
    "# Terrasolid Installation, Licensing and Updates #\n",
    "##################################################\n",
    "\n",
    "base_url = 'https://support.geocue.com/category/terrasolid/terrasolid-installation-licensing-updates/page/'\n",
    "\n",
    "scrape_index(base_url, 1, 7)"
   ]
  },
  {
   "cell_type": "markdown",
   "metadata": {},
   "source": [
    "## Scraping only html\n",
    "\n",
    "Cause Youtube embeds are annoying (slowing full scrape a lot) and not really any valuable information is lost"
   ]
  },
  {
   "cell_type": "code",
   "execution_count": 44,
   "metadata": {},
   "outputs": [],
   "source": [
    "########################\n",
    "# Terrasolid Tutorials #\n",
    "########################\n",
    "\n",
    "base_url = 'https://support.geocue.com/category/terrasolid/terrasolid-tutorials/page/'\n",
    "\n",
    "scrape_index_htmlonly(base_url, 1, 8, '../../Downloads/tutorials/')"
   ]
  },
  {
   "cell_type": "code",
   "execution_count": null,
   "metadata": {},
   "outputs": [],
   "source": [
    "########################\n",
    "# Terrasolid Tutorials #\n",
    "########################\n",
    "\n",
    "base_url = 'https://support.geocue.com/category/terrasolid/terrasolid-case-studies/page/'\n",
    "\n",
    "scrape_index_htmlonly(base_url, 1, 1, '../../Downloads/case studies/')"
   ]
  }
 ],
 "metadata": {
  "kernelspec": {
   "display_name": "Python 3.7.15 ('gc-scrapenv')",
   "language": "python",
   "name": "python3"
  },
  "language_info": {
   "codemirror_mode": {
    "name": "ipython",
    "version": 3
   },
   "file_extension": ".py",
   "mimetype": "text/x-python",
   "name": "python",
   "nbconvert_exporter": "python",
   "pygments_lexer": "ipython3",
   "version": "3.7.15"
  },
  "vscode": {
   "interpreter": {
    "hash": "36224b887e80c7681219faf5d1f4a4620494c92cbdf778a2bd1640d5e9a44a91"
   }
  }
 },
 "nbformat": 4,
 "nbformat_minor": 4
}
